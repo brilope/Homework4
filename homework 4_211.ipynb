{
 "cells": [
  {
   "cell_type": "code",
   "execution_count": 2,
   "metadata": {},
   "outputs": [],
   "source": [
    "import pandas as pd"
   ]
  },
  {
   "cell_type": "code",
   "execution_count": 3,
   "metadata": {},
   "outputs": [
    {
     "name": "stdout",
     "output_type": "stream",
     "text": [
      "           sample_id     species  petal_length  petal_width  sepal_length  \\\n",
      "0    g4JZlAtiN4mBGyE  versicolor      4.589243     1.306969      5.844006   \n",
      "1    BwWealRi00L4RH1  versicolor      4.836183     1.384244      5.919572   \n",
      "2    ZdyiDoTAArjRj3X   virginica      5.510280     1.786967      6.081146   \n",
      "3    0NqN8AaLZ8jelu^      setosa      1.434607     0.419694      4.036309   \n",
      "4    8nqRlCsXKJjHafD  versicolor      3.950310     1.224275      6.885232   \n",
      "..               ...         ...           ...          ...           ...   \n",
      "145  OdGVCXAogTKYlou      setosa      1.153406     0.253203      5.118126   \n",
      "146  RfhQcCqkgElTdgQ      setosa      1.939653     0.384366      4.672874   \n",
      "147  KVOgLV6Q#yIYrjY  versicolor      5.106639     1.533397      5.531415   \n",
      "148  wRkfYyPTwUzYYb0  versicolor      3.695471     1.078146      6.748385   \n",
      "149  LJKQtCDGGuAeSd,   virginica      5.875653     2.036419      6.384305   \n",
      "\n",
      "     sepal_width  \n",
      "0       3.341825  \n",
      "1       2.624173  \n",
      "2       3.040232  \n",
      "3       3.527450  \n",
      "4       3.631972  \n",
      "..           ...  \n",
      "145     3.092223  \n",
      "146     3.195519  \n",
      "147     2.214055  \n",
      "148     2.366439  \n",
      "149     2.604220  \n",
      "\n",
      "[150 rows x 6 columns]\n"
     ]
    }
   ],
   "source": [
    "#Load the provided data files\n",
    "petal_data = pd.read_csv(\"C:/Users/chemi/OneDrive/Coding/Petal_Data.csv\")\n",
    "petal_data.pop(petal_data.columns[0])\n",
    "sepal_data = pd.read_csv(\"C:/Users/chemi/OneDrive/Coding/Sepal_Data.csv\")\n",
    "sepal_data.pop(sepal_data.columns[0])\n",
    "\n",
    "#merging the two dataframes\n",
    "result = pd.merge(petal_data, sepal_data, on= ['sample_id', 'species'], how = 'inner')\n",
    "print(result)"
   ]
  },
  {
   "cell_type": "code",
   "execution_count": 8,
   "metadata": {},
   "outputs": [],
   "source": [
    "#seperate into three dataframes based on species\n",
    "setosa = result[result['species'] == 'setosa']\n",
    "versicolor = result[result['species'] == 'versicolor']\n",
    "virginica = result[result['species'] == 'virginica']"
   ]
  },
  {
   "cell_type": "code",
   "execution_count": 9,
   "metadata": {},
   "outputs": [
    {
     "name": "stdout",
     "output_type": "stream",
     "text": [
      "Correlation for setosa:  [-0.003592081119985565, 0.036455731372042346]\n",
      "Correlation for virginica:  [-0.024689183487432834, 0.042957529775019786]\n",
      "Correlation for versicolor:  [0.007744825543254826, 0.06937954121170488]\n"
     ]
    }
   ],
   "source": [
    "#calculate the correlation matrix for setosa\n",
    "set_corr = [setosa['petal_length'].corr(setosa['sepal_length']), setosa['petal_width'].corr(setosa['sepal_width'])]\n",
    "print(\"Correlation for setosa: \", set_corr)\n",
    "vir_corr = [virginica['petal_length'].corr(virginica['sepal_length']), virginica['petal_width'].corr(virginica['sepal_width'])]\n",
    "print(\"Correlation for virginica: \", vir_corr)\n",
    "vers_corr = [versicolor['petal_length'].corr(versicolor['sepal_length']), versicolor['petal_width'].corr(versicolor['sepal_width'])]\n",
    "print(\"Correlation for versicolor: \", vers_corr)"
   ]
  },
  {
   "cell_type": "code",
   "execution_count": 13,
   "metadata": {},
   "outputs": [
    {
     "name": "stdout",
     "output_type": "stream",
     "text": [
      "Average of setosa:  [1.4865265717055822, 0.2507248824453789, 4.999634894807889, 3.4752252426863195]\n",
      "Average of virginica:  [5.47517160937913, 1.9882389654806025, 6.354952572249366, 3.001511207818371]\n",
      "Average of versicolor:  [4.2906901841842195, 1.345846434771727, 5.942616121614184, 2.7616095652302834]\n"
     ]
    }
   ],
   "source": [
    "#calculate the average, median, and standard deviation of the species\n",
    "set_average = [setosa['petal_length'].mean(), setosa['petal_width'].mean(), setosa['sepal_length'].mean(), setosa['sepal_width'].mean()]\n",
    "print(\"Average of setosa: \", set_average)\n",
    "vir_average = [virginica['petal_length'].mean(), virginica['petal_width'].mean(), virginica['sepal_length'].mean(), virginica['sepal_width'].mean()]\n",
    "print(\"Average of virginica: \", vir_average)\n",
    "vers_average = [versicolor['petal_length'].mean(), versicolor['petal_width'].mean(), versicolor['sepal_length'].mean(), versicolor['sepal_width'].mean()]\n",
    "print(\"Average of versicolor: \", vers_average)"
   ]
  },
  {
   "cell_type": "code",
   "execution_count": 14,
   "metadata": {},
   "outputs": [
    {
     "name": "stdout",
     "output_type": "stream",
     "text": [
      "Median of setosa:  [1.4649981709459392, 0.2515643095292802, 4.977019032103231, 3.460303753838798]\n",
      "Median of virginica:  [5.512922074331845, 1.954196765944809, 6.277033521388251, 3.019347622830877]\n",
      "Median of versicolor:  [4.3219102513040815, 1.3723589709904553, 5.917316755679797, 2.7470440405318755]\n"
     ]
    }
   ],
   "source": [
    "set_median = [setosa['petal_length'].median(), setosa['petal_width'].median(), setosa['sepal_length'].median(), setosa['sepal_width'].median()]\n",
    "print(\"Median of setosa: \", set_median)\n",
    "vir_median = [virginica['petal_length'].median(), virginica['petal_width'].median(), virginica['sepal_length'].median(), virginica['sepal_width'].median()]\n",
    "print(\"Median of virginica: \", vir_median)\n",
    "vers_median = [versicolor['petal_length'].median(), versicolor['petal_width'].median(), versicolor['sepal_length'].median(), versicolor['sepal_width'].median()]\n",
    "print(\"Median of versicolor: \", vers_median)"
   ]
  },
  {
   "cell_type": "code",
   "execution_count": 15,
   "metadata": {},
   "outputs": [
    {
     "name": "stdout",
     "output_type": "stream",
     "text": [
      "Standard deviation of setosa:  [0.2070642111127188, 0.11620059468194417, 0.3231298606444537, 0.36532182251232836]\n",
      "Standard deviation of virginica:  [0.4588605855142999, 0.24225267788137061, 0.5732325259920477, 0.3259091451492748]\n",
      "Standard deviation of versicolor:  [0.4652221428477373, 0.18587749781951385, 0.47539115574152263, 0.3857540707337165]\n"
     ]
    }
   ],
   "source": [
    "set_std = [setosa['petal_length'].std(), setosa['petal_width'].std(), setosa['sepal_length'].std(), setosa['sepal_width'].std()]\n",
    "print(\"Standard deviation of setosa: \", set_std)\n",
    "vir_std = [virginica['petal_length'].std(), virginica['petal_width'].std(), virginica['sepal_length'].std(), virginica['sepal_width'].std()]\n",
    "print(\"Standard deviation of virginica: \", vir_std)\n",
    "vers_std = [versicolor['petal_length'].std(), versicolor['petal_width'].std(), versicolor['sepal_length'].std(), versicolor['sepal_width'].std()]\n",
    "print(\"Standard deviation of versicolor: \", vers_std)"
   ]
  },
  {
   "cell_type": "code",
   "execution_count": null,
   "metadata": {},
   "outputs": [],
   "source": [
    "#The species of irises that are most similar to each other are setosa and versicolor because they have the highest correlation of 0.754049. The species of irises that are most different from each other are setosa and virginica because they have the lowest correlation of 0.278098."
   ]
  }
 ],
 "metadata": {
  "kernelspec": {
   "display_name": "base",
   "language": "python",
   "name": "python3"
  },
  "language_info": {
   "codemirror_mode": {
    "name": "ipython",
    "version": 3
   },
   "file_extension": ".py",
   "mimetype": "text/x-python",
   "name": "python",
   "nbconvert_exporter": "python",
   "pygments_lexer": "ipython3",
   "version": "3.11.4"
  }
 },
 "nbformat": 4,
 "nbformat_minor": 2
}
